{
 "cells": [
  {
   "cell_type": "markdown",
   "metadata": {},
   "source": [
    "These packages allow us to reshape and analyze the data"
   ]
  },
  {
   "cell_type": "code",
   "execution_count": 74,
   "metadata": {},
   "outputs": [],
   "source": [
    "import pandas as pd\n",
    "import numpy as np"
   ]
  },
  {
   "cell_type": "markdown",
   "metadata": {},
   "source": [
    "This data comes from here: https://www.phoenixopendata.com/dataset/crime-data"
   ]
  },
  {
   "cell_type": "code",
   "execution_count": 55,
   "metadata": {},
   "outputs": [
    {
     "name": "stderr",
     "output_type": "stream",
     "text": [
      "C:\\Users\\Sterling\\AnacondaNew\\lib\\site-packages\\IPython\\core\\interactiveshell.py:3146: DtypeWarning: Columns (0) have mixed types.Specify dtype option on import or set low_memory=False.\n",
      "  has_raised = await self.run_ast_nodes(code_ast.body, cell_name,\n"
     ]
    }
   ],
   "source": [
    "df = pd.read_csv('crimestat.csv')"
   ]
  },
  {
   "cell_type": "markdown",
   "metadata": {},
   "source": [
    "This gives us a preview of the crime data"
   ]
  },
  {
   "cell_type": "code",
   "execution_count": 56,
   "metadata": {},
   "outputs": [
    {
     "data": {
      "text/html": [
       "<div>\n",
       "<style scoped>\n",
       "    .dataframe tbody tr th:only-of-type {\n",
       "        vertical-align: middle;\n",
       "    }\n",
       "\n",
       "    .dataframe tbody tr th {\n",
       "        vertical-align: top;\n",
       "    }\n",
       "\n",
       "    .dataframe thead th {\n",
       "        text-align: right;\n",
       "    }\n",
       "</style>\n",
       "<table border=\"1\" class=\"dataframe\">\n",
       "  <thead>\n",
       "    <tr style=\"text-align: right;\">\n",
       "      <th></th>\n",
       "      <th>INC NUMBER</th>\n",
       "      <th>OCCURRED ON</th>\n",
       "      <th>OCCURRED TO</th>\n",
       "      <th>UCR CRIME CATEGORY</th>\n",
       "      <th>100 BLOCK ADDR</th>\n",
       "      <th>ZIP</th>\n",
       "      <th>PREMISE TYPE</th>\n",
       "      <th>GRID</th>\n",
       "    </tr>\n",
       "  </thead>\n",
       "  <tbody>\n",
       "    <tr>\n",
       "      <th>0</th>\n",
       "      <td>201600000594484</td>\n",
       "      <td>11/01/2015  00:00</td>\n",
       "      <td>NaN</td>\n",
       "      <td>RAPE</td>\n",
       "      <td>13XX E ALMERIA RD</td>\n",
       "      <td>85006.0</td>\n",
       "      <td>SINGLE FAMILY HOUSE</td>\n",
       "      <td>BD30</td>\n",
       "    </tr>\n",
       "    <tr>\n",
       "      <th>1</th>\n",
       "      <td>201500002102327</td>\n",
       "      <td>11/01/2015  00:00</td>\n",
       "      <td>11/01/2015  09:00</td>\n",
       "      <td>LARCENY-THEFT</td>\n",
       "      <td>51XX N 15TH ST</td>\n",
       "      <td>85014.0</td>\n",
       "      <td>APARTMENT</td>\n",
       "      <td>BJ30</td>\n",
       "    </tr>\n",
       "    <tr>\n",
       "      <th>2</th>\n",
       "      <td>201500002168686</td>\n",
       "      <td>11/01/2015  00:00</td>\n",
       "      <td>11/11/2015  09:30</td>\n",
       "      <td>LARCENY-THEFT</td>\n",
       "      <td>14XX E HIGHLAND AVE</td>\n",
       "      <td>85014.0</td>\n",
       "      <td>PARKING LOT</td>\n",
       "      <td>BI30</td>\n",
       "    </tr>\n",
       "    <tr>\n",
       "      <th>3</th>\n",
       "      <td>201500002102668</td>\n",
       "      <td>11/01/2015  00:00</td>\n",
       "      <td>11/01/2015  11:50</td>\n",
       "      <td>MOTOR VEHICLE THEFT</td>\n",
       "      <td>69XX W WOOD ST</td>\n",
       "      <td>85043.0</td>\n",
       "      <td>SINGLE FAMILY HOUSE</td>\n",
       "      <td>AF12</td>\n",
       "    </tr>\n",
       "    <tr>\n",
       "      <th>4</th>\n",
       "      <td>201600000052855</td>\n",
       "      <td>11/01/2015  00:00</td>\n",
       "      <td>01/09/2016  00:00</td>\n",
       "      <td>MOTOR VEHICLE THEFT</td>\n",
       "      <td>N 43RD AVE &amp; W CACTUS RD</td>\n",
       "      <td>85029.0</td>\n",
       "      <td>SINGLE FAMILY HOUSE</td>\n",
       "      <td>DA19</td>\n",
       "    </tr>\n",
       "  </tbody>\n",
       "</table>\n",
       "</div>"
      ],
      "text/plain": [
       "        INC NUMBER        OCCURRED ON        OCCURRED TO   UCR CRIME CATEGORY  \\\n",
       "0  201600000594484  11/01/2015  00:00                NaN                 RAPE   \n",
       "1  201500002102327  11/01/2015  00:00  11/01/2015  09:00        LARCENY-THEFT   \n",
       "2  201500002168686  11/01/2015  00:00  11/11/2015  09:30        LARCENY-THEFT   \n",
       "3  201500002102668  11/01/2015  00:00  11/01/2015  11:50  MOTOR VEHICLE THEFT   \n",
       "4  201600000052855  11/01/2015  00:00  01/09/2016  00:00  MOTOR VEHICLE THEFT   \n",
       "\n",
       "             100 BLOCK ADDR      ZIP         PREMISE TYPE  GRID  \n",
       "0         13XX E ALMERIA RD  85006.0  SINGLE FAMILY HOUSE  BD30  \n",
       "1            51XX N 15TH ST  85014.0            APARTMENT  BJ30  \n",
       "2       14XX E HIGHLAND AVE  85014.0          PARKING LOT  BI30  \n",
       "3            69XX W WOOD ST  85043.0  SINGLE FAMILY HOUSE  AF12  \n",
       "4  N 43RD AVE & W CACTUS RD  85029.0  SINGLE FAMILY HOUSE  DA19  "
      ]
     },
     "execution_count": 56,
     "metadata": {},
     "output_type": "execute_result"
    }
   ],
   "source": [
    "df.head()"
   ]
  },
  {
   "cell_type": "markdown",
   "metadata": {},
   "source": [
    "This is a grouping of crimes by type of location, with percentages showing the share of crime each location type receives "
   ]
  },
  {
   "cell_type": "code",
   "execution_count": 57,
   "metadata": {},
   "outputs": [
    {
     "data": {
      "text/plain": [
       "SINGLE FAMILY HOUSE                    0.148637\n",
       "APARTMENT                              0.130296\n",
       "PARKING LOT                            0.085750\n",
       "STREET / ROADWAY / ALLEY / SIDEWALK    0.061149\n",
       "RETAIL BUSINESS                        0.052856\n",
       "STREET / ROADWAY / SIDEWALK            0.050149\n",
       "VEHICLE                                0.050096\n",
       "DEPARTMENT / DISCOUNT STORE            0.046964\n",
       "CONVENIENCE MARKET / STORE             0.042216\n",
       "DRIVEWAY                               0.038218\n",
       "GROCERY / SUPER MARKET                 0.023809\n",
       "SPECIALTY STORE                        0.020909\n",
       "OTHER                                  0.016303\n",
       "HOTEL / MOTEL                          0.016009\n",
       "OFFICE / COMMERCIAL BUILDING           0.015732\n",
       "GAS / SERVICE STATION                  0.013216\n",
       "DRUG STORE                             0.012382\n",
       "FENCED COMMERCIAL YARD                 0.012206\n",
       "CONDO / TOWNHOUSE                      0.011605\n",
       "RESTAURANT                             0.010951\n",
       "Name: PREMISE TYPE, dtype: float64"
      ]
     },
     "execution_count": 57,
     "metadata": {},
     "output_type": "execute_result"
    }
   ],
   "source": [
    "df['PREMISE TYPE'].value_counts(ascending=False, normalize=True).head(20)"
   ]
  },
  {
   "cell_type": "markdown",
   "metadata": {},
   "source": [
    "This is some data manipulation in Pandas that tells us which crime category is the most prevalent in each ZIP code"
   ]
  },
  {
   "cell_type": "code",
   "execution_count": 58,
   "metadata": {},
   "outputs": [
    {
     "data": {
      "text/html": [
       "<div>\n",
       "<style scoped>\n",
       "    .dataframe tbody tr th:only-of-type {\n",
       "        vertical-align: middle;\n",
       "    }\n",
       "\n",
       "    .dataframe tbody tr th {\n",
       "        vertical-align: top;\n",
       "    }\n",
       "\n",
       "    .dataframe thead th {\n",
       "        text-align: right;\n",
       "    }\n",
       "</style>\n",
       "<table border=\"1\" class=\"dataframe\">\n",
       "  <thead>\n",
       "    <tr style=\"text-align: right;\">\n",
       "      <th></th>\n",
       "      <th>ZIP</th>\n",
       "      <th>Top Crime</th>\n",
       "    </tr>\n",
       "  </thead>\n",
       "  <tbody>\n",
       "    <tr>\n",
       "      <th>74</th>\n",
       "      <td>85266.0</td>\n",
       "      <td>LARCENY-THEFT</td>\n",
       "    </tr>\n",
       "    <tr>\n",
       "      <th>50</th>\n",
       "      <td>85210.0</td>\n",
       "      <td>RAPE</td>\n",
       "    </tr>\n",
       "    <tr>\n",
       "      <th>11</th>\n",
       "      <td>85017.0</td>\n",
       "      <td>LARCENY-THEFT</td>\n",
       "    </tr>\n",
       "    <tr>\n",
       "      <th>95</th>\n",
       "      <td>85326.0</td>\n",
       "      <td>LARCENY-THEFT</td>\n",
       "    </tr>\n",
       "    <tr>\n",
       "      <th>61</th>\n",
       "      <td>85248.0</td>\n",
       "      <td>LARCENY-THEFT</td>\n",
       "    </tr>\n",
       "    <tr>\n",
       "      <th>17</th>\n",
       "      <td>85023.0</td>\n",
       "      <td>LARCENY-THEFT</td>\n",
       "    </tr>\n",
       "    <tr>\n",
       "      <th>103</th>\n",
       "      <td>85351.0</td>\n",
       "      <td>LARCENY-THEFT</td>\n",
       "    </tr>\n",
       "    <tr>\n",
       "      <th>31</th>\n",
       "      <td>85043.0</td>\n",
       "      <td>LARCENY-THEFT</td>\n",
       "    </tr>\n",
       "    <tr>\n",
       "      <th>10</th>\n",
       "      <td>85016.0</td>\n",
       "      <td>LARCENY-THEFT</td>\n",
       "    </tr>\n",
       "    <tr>\n",
       "      <th>6</th>\n",
       "      <td>85012.0</td>\n",
       "      <td>LARCENY-THEFT</td>\n",
       "    </tr>\n",
       "    <tr>\n",
       "      <th>54</th>\n",
       "      <td>85224.0</td>\n",
       "      <td>DRUG OFFENSE</td>\n",
       "    </tr>\n",
       "    <tr>\n",
       "      <th>91</th>\n",
       "      <td>85307.0</td>\n",
       "      <td>LARCENY-THEFT</td>\n",
       "    </tr>\n",
       "    <tr>\n",
       "      <th>85</th>\n",
       "      <td>85301.0</td>\n",
       "      <td>DRUG OFFENSE</td>\n",
       "    </tr>\n",
       "    <tr>\n",
       "      <th>42</th>\n",
       "      <td>85087.0</td>\n",
       "      <td>LARCENY-THEFT</td>\n",
       "    </tr>\n",
       "    <tr>\n",
       "      <th>7</th>\n",
       "      <td>85013.0</td>\n",
       "      <td>LARCENY-THEFT</td>\n",
       "    </tr>\n",
       "  </tbody>\n",
       "</table>\n",
       "</div>"
      ],
      "text/plain": [
       "         ZIP      Top Crime\n",
       "74   85266.0  LARCENY-THEFT\n",
       "50   85210.0           RAPE\n",
       "11   85017.0  LARCENY-THEFT\n",
       "95   85326.0  LARCENY-THEFT\n",
       "61   85248.0  LARCENY-THEFT\n",
       "17   85023.0  LARCENY-THEFT\n",
       "103  85351.0  LARCENY-THEFT\n",
       "31   85043.0  LARCENY-THEFT\n",
       "10   85016.0  LARCENY-THEFT\n",
       "6    85012.0  LARCENY-THEFT\n",
       "54   85224.0   DRUG OFFENSE\n",
       "91   85307.0  LARCENY-THEFT\n",
       "85   85301.0   DRUG OFFENSE\n",
       "42   85087.0  LARCENY-THEFT\n",
       "7    85013.0  LARCENY-THEFT"
      ]
     },
     "execution_count": 58,
     "metadata": {},
     "output_type": "execute_result"
    }
   ],
   "source": [
    "top_crime_zip = df.groupby('ZIP')['UCR CRIME CATEGORY'].apply(lambda x: x.value_counts().index[0]).reset_index()\n",
    "top_crime_zip.columns = ['ZIP','Top Crime']\n",
    "top_crime_zip.sample(15)"
   ]
  },
  {
   "cell_type": "markdown",
   "metadata": {},
   "source": [
    "This section converts the timestamps into datetime and then groups the crimes by ZIP code and week start date for a weekly count by ZIP"
   ]
  },
  {
   "cell_type": "code",
   "execution_count": 59,
   "metadata": {},
   "outputs": [],
   "source": [
    "df['time'] = pd.to_datetime(df['OCCURRED ON'], format='%m/%d/%Y  %H:%M')"
   ]
  },
  {
   "cell_type": "code",
   "execution_count": 61,
   "metadata": {},
   "outputs": [],
   "source": [
    "dates_agg = df.groupby([df['ZIP'],df['time'].dt.to_period('W').dt.start_time])['UCR CRIME CATEGORY'].count().reset_index()"
   ]
  },
  {
   "cell_type": "code",
   "execution_count": 63,
   "metadata": {},
   "outputs": [],
   "source": [
    "dates_agg.columns = ['ZIP','week_start_date','crime_count']"
   ]
  },
  {
   "cell_type": "code",
   "execution_count": 81,
   "metadata": {},
   "outputs": [
    {
     "data": {
      "text/html": [
       "<div>\n",
       "<style scoped>\n",
       "    .dataframe tbody tr th:only-of-type {\n",
       "        vertical-align: middle;\n",
       "    }\n",
       "\n",
       "    .dataframe tbody tr th {\n",
       "        vertical-align: top;\n",
       "    }\n",
       "\n",
       "    .dataframe thead th {\n",
       "        text-align: right;\n",
       "    }\n",
       "</style>\n",
       "<table border=\"1\" class=\"dataframe\">\n",
       "  <thead>\n",
       "    <tr style=\"text-align: right;\">\n",
       "      <th></th>\n",
       "      <th>ZIP</th>\n",
       "      <th>week_start_date</th>\n",
       "      <th>crime_count</th>\n",
       "    </tr>\n",
       "  </thead>\n",
       "  <tbody>\n",
       "    <tr>\n",
       "      <th>0</th>\n",
       "      <td>85003.0</td>\n",
       "      <td>2015-10-26</td>\n",
       "      <td>1</td>\n",
       "    </tr>\n",
       "    <tr>\n",
       "      <th>1</th>\n",
       "      <td>85003.0</td>\n",
       "      <td>2015-11-02</td>\n",
       "      <td>10</td>\n",
       "    </tr>\n",
       "    <tr>\n",
       "      <th>2</th>\n",
       "      <td>85003.0</td>\n",
       "      <td>2015-11-09</td>\n",
       "      <td>21</td>\n",
       "    </tr>\n",
       "    <tr>\n",
       "      <th>3</th>\n",
       "      <td>85003.0</td>\n",
       "      <td>2015-11-16</td>\n",
       "      <td>18</td>\n",
       "    </tr>\n",
       "    <tr>\n",
       "      <th>4</th>\n",
       "      <td>85003.0</td>\n",
       "      <td>2015-11-23</td>\n",
       "      <td>16</td>\n",
       "    </tr>\n",
       "  </tbody>\n",
       "</table>\n",
       "</div>"
      ],
      "text/plain": [
       "       ZIP week_start_date  crime_count\n",
       "0  85003.0      2015-10-26            1\n",
       "1  85003.0      2015-11-02           10\n",
       "2  85003.0      2015-11-09           21\n",
       "3  85003.0      2015-11-16           18\n",
       "4  85003.0      2015-11-23           16"
      ]
     },
     "execution_count": 81,
     "metadata": {},
     "output_type": "execute_result"
    }
   ],
   "source": [
    "dates_agg.head()"
   ]
  },
  {
   "cell_type": "markdown",
   "metadata": {},
   "source": [
    "This section uses Numpy to calculate a slope of crime time series for each ZIP code"
   ]
  },
  {
   "cell_type": "code",
   "execution_count": 88,
   "metadata": {},
   "outputs": [],
   "source": [
    "def get_slope(dates,vals):\n",
    "    x = dates\n",
    "    y = vals.astype(float)\n",
    "    seq_x = np.arange(x.size)\n",
    "    first_fit = np.polyfit(seq_x, y, 1)\n",
    "    second_fit = np.poly1d(first_fit)\n",
    "    return second_fit[0]"
   ]
  },
  {
   "cell_type": "markdown",
   "metadata": {},
   "source": [
    "This section uses Pandas to load a DataFrame with the slope for each ZIP"
   ]
  },
  {
   "cell_type": "code",
   "execution_count": 104,
   "metadata": {},
   "outputs": [],
   "source": [
    "zc_table = pd.DataFrame(columns=['ZIP', 'slope'])"
   ]
  },
  {
   "cell_type": "code",
   "execution_count": 105,
   "metadata": {},
   "outputs": [
    {
     "name": "stderr",
     "output_type": "stream",
     "text": [
      "C:\\Users\\Sterling\\AnacondaNew\\lib\\site-packages\\numpy\\lib\\polynomial.py:628: RuntimeWarning: invalid value encountered in true_divide\n",
      "  lhs /= scale\n",
      "C:\\Users\\Sterling\\AnacondaNew\\lib\\site-packages\\numpy\\lib\\polynomial.py:628: RuntimeWarning: invalid value encountered in true_divide\n",
      "  lhs /= scale\n",
      "C:\\Users\\Sterling\\AnacondaNew\\lib\\site-packages\\numpy\\lib\\polynomial.py:628: RuntimeWarning: invalid value encountered in true_divide\n",
      "  lhs /= scale\n",
      "C:\\Users\\Sterling\\AnacondaNew\\lib\\site-packages\\numpy\\lib\\polynomial.py:628: RuntimeWarning: invalid value encountered in true_divide\n",
      "  lhs /= scale\n",
      "C:\\Users\\Sterling\\AnacondaNew\\lib\\site-packages\\numpy\\lib\\polynomial.py:628: RuntimeWarning: invalid value encountered in true_divide\n",
      "  lhs /= scale\n",
      "C:\\Users\\Sterling\\AnacondaNew\\lib\\site-packages\\numpy\\lib\\polynomial.py:628: RuntimeWarning: invalid value encountered in true_divide\n",
      "  lhs /= scale\n",
      "C:\\Users\\Sterling\\AnacondaNew\\lib\\site-packages\\numpy\\lib\\polynomial.py:628: RuntimeWarning: invalid value encountered in true_divide\n",
      "  lhs /= scale\n",
      "C:\\Users\\Sterling\\AnacondaNew\\lib\\site-packages\\numpy\\lib\\polynomial.py:628: RuntimeWarning: invalid value encountered in true_divide\n",
      "  lhs /= scale\n",
      "C:\\Users\\Sterling\\AnacondaNew\\lib\\site-packages\\numpy\\lib\\polynomial.py:628: RuntimeWarning: invalid value encountered in true_divide\n",
      "  lhs /= scale\n",
      "C:\\Users\\Sterling\\AnacondaNew\\lib\\site-packages\\numpy\\lib\\polynomial.py:628: RuntimeWarning: invalid value encountered in true_divide\n",
      "  lhs /= scale\n",
      "C:\\Users\\Sterling\\AnacondaNew\\lib\\site-packages\\numpy\\lib\\polynomial.py:628: RuntimeWarning: invalid value encountered in true_divide\n",
      "  lhs /= scale\n",
      "C:\\Users\\Sterling\\AnacondaNew\\lib\\site-packages\\numpy\\lib\\polynomial.py:628: RuntimeWarning: invalid value encountered in true_divide\n",
      "  lhs /= scale\n",
      "C:\\Users\\Sterling\\AnacondaNew\\lib\\site-packages\\numpy\\lib\\polynomial.py:628: RuntimeWarning: invalid value encountered in true_divide\n",
      "  lhs /= scale\n",
      "C:\\Users\\Sterling\\AnacondaNew\\lib\\site-packages\\numpy\\lib\\polynomial.py:628: RuntimeWarning: invalid value encountered in true_divide\n",
      "  lhs /= scale\n",
      "C:\\Users\\Sterling\\AnacondaNew\\lib\\site-packages\\numpy\\lib\\polynomial.py:628: RuntimeWarning: invalid value encountered in true_divide\n",
      "  lhs /= scale\n"
     ]
    }
   ],
   "source": [
    "counter = 0\n",
    "for zc in dates_agg.ZIP.unique():\n",
    "    df_slice = dates_agg[dates_agg.ZIP==zc]\n",
    "    try:\n",
    "        slope = get_slope(df_slice.week_start_date.values,df_slice.crime_count.values)\n",
    "    except:\n",
    "        pass\n",
    "    zc_table.at[counter,'ZIP'] = zc\n",
    "    zc_table.at[counter,'slope'] = slope\n",
    "    counter += 1"
   ]
  },
  {
   "cell_type": "code",
   "execution_count": 106,
   "metadata": {},
   "outputs": [
    {
     "data": {
      "text/plain": [
       "(116, 2)"
      ]
     },
     "execution_count": 106,
     "metadata": {},
     "output_type": "execute_result"
    }
   ],
   "source": [
    "zc_table.shape"
   ]
  },
  {
   "cell_type": "code",
   "execution_count": 107,
   "metadata": {},
   "outputs": [
    {
     "data": {
      "text/html": [
       "<div>\n",
       "<style scoped>\n",
       "    .dataframe tbody tr th:only-of-type {\n",
       "        vertical-align: middle;\n",
       "    }\n",
       "\n",
       "    .dataframe tbody tr th {\n",
       "        vertical-align: top;\n",
       "    }\n",
       "\n",
       "    .dataframe thead th {\n",
       "        text-align: right;\n",
       "    }\n",
       "</style>\n",
       "<table border=\"1\" class=\"dataframe\">\n",
       "  <thead>\n",
       "    <tr style=\"text-align: right;\">\n",
       "      <th></th>\n",
       "      <th>ZIP</th>\n",
       "      <th>slope</th>\n",
       "    </tr>\n",
       "  </thead>\n",
       "  <tbody>\n",
       "    <tr>\n",
       "      <th>0</th>\n",
       "      <td>85003</td>\n",
       "      <td>14.1061</td>\n",
       "    </tr>\n",
       "    <tr>\n",
       "      <th>1</th>\n",
       "      <td>85004</td>\n",
       "      <td>14.0501</td>\n",
       "    </tr>\n",
       "    <tr>\n",
       "      <th>2</th>\n",
       "      <td>85006</td>\n",
       "      <td>25.7464</td>\n",
       "    </tr>\n",
       "    <tr>\n",
       "      <th>3</th>\n",
       "      <td>85007</td>\n",
       "      <td>18.1755</td>\n",
       "    </tr>\n",
       "    <tr>\n",
       "      <th>4</th>\n",
       "      <td>85008</td>\n",
       "      <td>57.5574</td>\n",
       "    </tr>\n",
       "  </tbody>\n",
       "</table>\n",
       "</div>"
      ],
      "text/plain": [
       "     ZIP    slope\n",
       "0  85003  14.1061\n",
       "1  85004  14.0501\n",
       "2  85006  25.7464\n",
       "3  85007  18.1755\n",
       "4  85008  57.5574"
      ]
     },
     "execution_count": 107,
     "metadata": {},
     "output_type": "execute_result"
    }
   ],
   "source": [
    "zc_table.head()"
   ]
  },
  {
   "cell_type": "markdown",
   "metadata": {},
   "source": [
    "This is the ZIP code with the fastest growing crime rate"
   ]
  },
  {
   "cell_type": "code",
   "execution_count": 108,
   "metadata": {},
   "outputs": [
    {
     "data": {
      "text/html": [
       "<div>\n",
       "<style scoped>\n",
       "    .dataframe tbody tr th:only-of-type {\n",
       "        vertical-align: middle;\n",
       "    }\n",
       "\n",
       "    .dataframe tbody tr th {\n",
       "        vertical-align: top;\n",
       "    }\n",
       "\n",
       "    .dataframe thead th {\n",
       "        text-align: right;\n",
       "    }\n",
       "</style>\n",
       "<table border=\"1\" class=\"dataframe\">\n",
       "  <thead>\n",
       "    <tr style=\"text-align: right;\">\n",
       "      <th></th>\n",
       "      <th>ZIP</th>\n",
       "      <th>slope</th>\n",
       "    </tr>\n",
       "  </thead>\n",
       "  <tbody>\n",
       "    <tr>\n",
       "      <th>9</th>\n",
       "      <td>85015</td>\n",
       "      <td>67.1456</td>\n",
       "    </tr>\n",
       "  </tbody>\n",
       "</table>\n",
       "</div>"
      ],
      "text/plain": [
       "     ZIP    slope\n",
       "9  85015  67.1456"
      ]
     },
     "execution_count": 108,
     "metadata": {},
     "output_type": "execute_result"
    }
   ],
   "source": [
    "zc_table[zc_table.slope==zc_table.slope.max()]"
   ]
  },
  {
   "cell_type": "markdown",
   "metadata": {},
   "source": [
    "This is the ZIP code with the slowing growing crime rate"
   ]
  },
  {
   "cell_type": "code",
   "execution_count": 109,
   "metadata": {},
   "outputs": [
    {
     "data": {
      "text/html": [
       "<div>\n",
       "<style scoped>\n",
       "    .dataframe tbody tr th:only-of-type {\n",
       "        vertical-align: middle;\n",
       "    }\n",
       "\n",
       "    .dataframe tbody tr th {\n",
       "        vertical-align: top;\n",
       "    }\n",
       "\n",
       "    .dataframe thead th {\n",
       "        text-align: right;\n",
       "    }\n",
       "</style>\n",
       "<table border=\"1\" class=\"dataframe\">\n",
       "  <thead>\n",
       "    <tr style=\"text-align: right;\">\n",
       "      <th></th>\n",
       "      <th>ZIP</th>\n",
       "      <th>slope</th>\n",
       "    </tr>\n",
       "  </thead>\n",
       "  <tbody>\n",
       "    <tr>\n",
       "      <th>44</th>\n",
       "      <td>85202</td>\n",
       "      <td>0.980237</td>\n",
       "    </tr>\n",
       "  </tbody>\n",
       "</table>\n",
       "</div>"
      ],
      "text/plain": [
       "      ZIP     slope\n",
       "44  85202  0.980237"
      ]
     },
     "execution_count": 109,
     "metadata": {},
     "output_type": "execute_result"
    }
   ],
   "source": [
    "zc_table[zc_table.slope==zc_table.slope.min()]"
   ]
  },
  {
   "cell_type": "code",
   "execution_count": null,
   "metadata": {},
   "outputs": [],
   "source": []
  }
 ],
 "metadata": {
  "kernelspec": {
   "display_name": "Python 3",
   "language": "python",
   "name": "python3"
  },
  "language_info": {
   "codemirror_mode": {
    "name": "ipython",
    "version": 3
   },
   "file_extension": ".py",
   "mimetype": "text/x-python",
   "name": "python",
   "nbconvert_exporter": "python",
   "pygments_lexer": "ipython3",
   "version": "3.8.5"
  }
 },
 "nbformat": 4,
 "nbformat_minor": 4
}
